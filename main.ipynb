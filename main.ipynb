{
 "cells": [
  {
   "cell_type": "code",
   "execution_count": 133,
   "metadata": {},
   "outputs": [
    {
     "data": {
      "text/plain": [
       "True"
      ]
     },
     "execution_count": 133,
     "metadata": {},
     "output_type": "execute_result"
    }
   ],
   "source": [
    "from dotenv import load_dotenv\n",
    "import os\n",
    "import base64\n",
    "from requests import post, get, put\n",
    "import json\n",
    "\n",
    "import random\n",
    "\n",
    "# load environment file(.env) ...that are in the same directory of this python file...\n",
    "load_dotenv()"
   ]
  },
  {
   "cell_type": "code",
   "execution_count": 134,
   "metadata": {},
   "outputs": [],
   "source": [
    "# from .env file ...we want value of 'CLIENT_ID'...\n",
    "client_id = os.getenv(\"CLIENT_ID\")\n",
    "\n",
    "# from .env file ...we want value of 'CLIENT_SECRET'...\n",
    "client_secret = os.getenv(\"CLIENT_SECRET\")\n",
    "\n",
    "# print(client_id,client_secret)"
   ]
  },
  {
   "cell_type": "code",
   "execution_count": 135,
   "metadata": {},
   "outputs": [
    {
     "name": "stdout",
     "output_type": "stream",
     "text": [
      "BQBIasPNP51ieSuZqVK0yb6lY2sft3-KgRc85deh7T4BGueKklmBN3eJ078MvW6dZy_Auu-bQUdqjAB4goAfWnDwjcpk_ev9HmYkz96x8LrUDzF1IvM\n"
     ]
    }
   ],
   "source": [
    "# Getting authorization token (access token)\n",
    "\n",
    "def get_token():\n",
    "    auth_string = client_id + \":\" + client_secret\n",
    "    auth_bytes = auth_string.encode(\"utf-8\")\n",
    "    auth_base64 = str(base64.b64encode(auth_bytes), \"utf-8\")\n",
    "    \n",
    "    # End-point URL ...where we need to send the request to get the token\n",
    "    url = \"https://accounts.spotify.com/api/token\"\n",
    "    \n",
    "    # This headers dictionary will be used as headers in an HTTP request..\n",
    "    headers = {\n",
    "        # Server use this Authorization header to authenticate the request...\n",
    "        \"Authorization\": \"Basic \" + auth_base64,\n",
    "        \n",
    "        # Content type = 'application/x-www-form-urlencoded' indicates that the data we are sending in the HTTP request is in the\n",
    "        # form of URL-encoded data.... this is basically referring to the data which has grant_type as one key...because typically\n",
    "        # client credentials are url-encoded....example of urlencoded is  something like... name=John+Doe&age=25&birthdate=23-09-2002\n",
    "        \"Content-Type\": \"application/x-www-form-urlencoded\"        \n",
    "    }\n",
    "    \n",
    "    # This part is for authorization..where the client_credentials refers to the client credentials like CLIENT_ID and CLIENT_SECRET as\n",
    "    # the grant_type is client_credentials...which means it tells the server that this application has been granted the access to the\n",
    "    # resources through it's(client) client_credentials..so server authenticate if it is correct or not...when client make request..\n",
    "    data = {\"grant_type\":\"client_credentials\"}\n",
    "    \n",
    "    # Sending HTTP post request to the above url endpoint\n",
    "    result = post(url,headers=headers,data=data)\n",
    "    \n",
    "    # the response from the server is in the json format...so we convert the content of result into a dictionary..\n",
    "    json_result = json.loads(result.content)\n",
    "    \n",
    "    # Now we search for the key - \"access_token\" in the dictonary.. and store it value..\n",
    "    token = json_result[\"access_token\"]\n",
    "    return token;\n",
    "\n",
    "\n",
    "\n",
    "token = get_token()\n",
    "print(token)\n",
    "\n",
    "\n",
    "\n",
    "\n",
    "# Authorization header ...we are using the Authorization as Bearer...so we need to provide the access token along with it...\n",
    "def get_auth_header(token) :\n",
    "    return {\"Authorization\": \"Bearer \" + token}\n",
    "\n",
    "\n",
    "# auth_header = get_auth_header(token)\n",
    "# print(auth_header)\n",
    "\n",
    "\n",
    "\n"
   ]
  },
  {
   "cell_type": "code",
   "execution_count": null,
   "metadata": {},
   "outputs": [],
   "source": []
  },
  {
   "cell_type": "markdown",
   "metadata": {},
   "source": [
    "## Now making different requests to Spotify-API using the access_token"
   ]
  },
  {
   "cell_type": "code",
   "execution_count": null,
   "metadata": {},
   "outputs": [],
   "source": []
  },
  {
   "cell_type": "markdown",
   "metadata": {},
   "source": [
    "## `New Releases`"
   ]
  },
  {
   "cell_type": "markdown",
   "metadata": {},
   "source": [
    "### Get New Releases"
   ]
  },
  {
   "cell_type": "code",
   "execution_count": 136,
   "metadata": {},
   "outputs": [
    {
     "name": "stdout",
     "output_type": "stream",
     "text": [
      "Come Home to Me\n",
      "Lutt Putt Gaya (From \"Dunki\")\n",
      "Arjan Vailly (From \"ANIMAL\")\n",
      "Glass House\n",
      "Guntur Kaaram\n",
      "Kotabommali P.S\n",
      "Kali Kali Zulfon Ke\n",
      "NEW LIFE\n",
      "Hua Main (From \"ANIMAL\")\n",
      "Sunoh (From \"The Archies\")\n",
      "Leke Prabhu Ka Naam (From \"Tiger 3\")\n",
      "this is what space feels like\n",
      "JALSA 2.0 (From \"Mission Raniganj: The Great Bharat Rescue\")\n",
      "Saanware Aijaiyo\n",
      "The Great Indian Family\n",
      "Naina Milayke\n",
      "Nasha (From \"Sukhee\")\n",
      "Jawan\n",
      "Jaane Jaan - Title Track (From \"Jaane Jaan\")\n",
      "Gangs Of Godavari\n"
     ]
    }
   ],
   "source": [
    "def get_user_saved_albums(access_token):\n",
    "    \n",
    "    headers = get_auth_header(token)\n",
    "    url  = \"https://api.spotify.com/v1/browse/new-releases\"\n",
    "    \n",
    "    response = get(url,headers = headers)\n",
    "    result = json.loads(response.content)\n",
    "    \n",
    "    return result['albums']\n",
    "\n",
    "\n",
    "new_releases = get_user_saved_albums(token)\n",
    "\n",
    "for item in new_releases['items']:\n",
    "    print(item['name'])\n",
    "    \n",
    "    "
   ]
  },
  {
   "cell_type": "code",
   "execution_count": null,
   "metadata": {},
   "outputs": [],
   "source": []
  },
  {
   "cell_type": "markdown",
   "metadata": {},
   "source": [
    "## `Artist`"
   ]
  },
  {
   "cell_type": "markdown",
   "metadata": {},
   "source": [
    "#### Searching for a particular `Artist` by the `Artist_name`...."
   ]
  },
  {
   "cell_type": "code",
   "execution_count": 137,
   "metadata": {},
   "outputs": [
    {
     "name": "stdout",
     "output_type": "stream",
     "text": [
      "Arctic Monkeys\n",
      "7Ln80lUS6He07XvHI8qqHH\n"
     ]
    }
   ],
   "source": [
    "\n",
    "def search_for_artist(token, artist_name) :\n",
    "    \n",
    "    url = \"https://api.spotify.com/v1/search\"\n",
    "    headers = get_auth_header(token)\n",
    "    query = f\"?q={artist_name}&type=artist&limit=1\"\n",
    "    \n",
    "    query_url = url + query\n",
    "    \n",
    "    # This will be a json file...\n",
    "    result = get(query_url,headers=headers)\n",
    "    \n",
    "    # json_result will be a dictionary....but we need to access key-\"items\" from key-\"artists\"...so\n",
    "    json_result = json.loads(result.content)[\"artists\"][\"items\"]\n",
    "    \n",
    "    if len(json_result) == 0 :\n",
    "        print(\"No artist with this name exists....\")\n",
    "        return None\n",
    "    \n",
    "    return json_result[0]\n",
    "    \n",
    "\n",
    "result = search_for_artist(token, \"Arctic Monkeys\")\n",
    "print(result[\"name\"])\n",
    "    \n",
    "artist_id = result[\"id\"]\n",
    "print(artist_id)\n",
    "\n"
   ]
  },
  {
   "cell_type": "code",
   "execution_count": null,
   "metadata": {},
   "outputs": [],
   "source": []
  },
  {
   "cell_type": "markdown",
   "metadata": {},
   "source": [
    "### Fetching the `top tracks` of the `Artist` through his/her `Artist_id`..."
   ]
  },
  {
   "cell_type": "code",
   "execution_count": 138,
   "metadata": {},
   "outputs": [
    {
     "name": "stdout",
     "output_type": "stream",
     "text": [
      "1.I Wanna Be Yours\n",
      "2.505\n",
      "3.Why'd You Only Call Me When You're High?\n",
      "4.Do I Wanna Know?\n",
      "5.R U Mine?\n",
      "6.Fluorescent Adolescent\n",
      "7.Snap Out Of It\n",
      "8.Arabella\n",
      "9.Knee Socks\n",
      "10.Mardy Bum\n"
     ]
    }
   ],
   "source": [
    "# Pre-requisite is the above cell code of getting the artist from its name...as it is necessary to get the id of the artist...you can\n",
    "# also directly get the artist id of the artist through Spotify\n",
    "\n",
    "# function to get songs from artist id\n",
    "def get_songs_by_artist(token, artist_id) :\n",
    "    url = f\"https://api.spotify.com/v1/artists/{artist_id}/top-tracks?country=US\"\n",
    "    headers = get_auth_header(token)\n",
    "    \n",
    "    result = get(url, headers=headers)\n",
    "    json_result = json.loads(result.content)[\"tracks\"]\n",
    "    return json_result\n",
    "\n",
    "\n",
    "songs = get_songs_by_artist(token,artist_id)\n",
    "# print(songs)\n",
    "\n",
    "\n",
    "for idx,song in enumerate(songs) :\n",
    "    print(f\"{idx+1}.{song['name']}\")"
   ]
  },
  {
   "cell_type": "code",
   "execution_count": null,
   "metadata": {},
   "outputs": [],
   "source": []
  },
  {
   "cell_type": "code",
   "execution_count": null,
   "metadata": {},
   "outputs": [],
   "source": []
  },
  {
   "cell_type": "code",
   "execution_count": null,
   "metadata": {},
   "outputs": [],
   "source": []
  },
  {
   "cell_type": "markdown",
   "metadata": {},
   "source": [
    "## Here's how the \"Bearer\" authentication scheme works:\n",
    "\n",
    "1.  `Obtaining an Access Token:` \n",
    "    - Before using the \"Bearer\" scheme, the client (such as a web application or API client) typically goes\n",
    "through an authentication process to obtain an access token. \n",
    "    - This access token is issued by an authorization server and represents the\n",
    "client's permission to access certain resources.\n",
    "\n",
    "2.  `Including the Access Token:` \n",
    "    - Once the client has an access token, it includes it in the \"Authorization\" header of its HTTP requests.The header looks like this:\n",
    "        > Authorization: Bearer <access_token>\n",
    "    \n",
    "    The word \"Bearer\" is followed by a space.\n",
    "    <access_token> represents the actual access token obtained during the authentication process.\n",
    "\n",
    "3. `Server Validation:` When the server receives the HTTP request with the \"Authorization\" header using the \"Bearer\" scheme, it knows that the value after \"Bearer\" is an access token. The server validates the token to ensure it's valid, has not expired, and has the necessary permissions to access the requested resource.\n",
    "\n",
    "4.  `Access Grant:` \n",
    "    - If the token is valid and authorized, the server grants access to the requested resource. \n",
    "    - If the token is invalid or lacks the necessary permissions, the server denies access and responds accordingly.\n",
    "\n",
    "The \"Bearer\" authentication scheme is commonly used in conjunction with OAuth 2.0 for securing APIs and web services. OAuth 2.0 grants access tokens to clients, and clients use the \"Bearer\" scheme to present these tokens when accessing protected resources. It's a simple and widely adopted method for transmitting access tokens in HTTP requests for authentication and authorization purposes."
   ]
  },
  {
   "cell_type": "code",
   "execution_count": null,
   "metadata": {},
   "outputs": [],
   "source": []
  },
  {
   "cell_type": "code",
   "execution_count": null,
   "metadata": {},
   "outputs": [],
   "source": []
  },
  {
   "cell_type": "code",
   "execution_count": null,
   "metadata": {},
   "outputs": [],
   "source": []
  },
  {
   "cell_type": "markdown",
   "metadata": {},
   "source": [
    "## `Playlist`"
   ]
  },
  {
   "cell_type": "markdown",
   "metadata": {},
   "source": [
    "### Adding `Custom` Playlist `Cover Image`"
   ]
  },
  {
   "cell_type": "code",
   "execution_count": 139,
   "metadata": {},
   "outputs": [
    {
     "name": "stdout",
     "output_type": "stream",
     "text": [
      "⚠️Failed to add custom cover image⚠️\n"
     ]
    },
    {
     "data": {
      "text/plain": [
       "401"
      ]
     },
     "execution_count": 139,
     "metadata": {},
     "output_type": "execute_result"
    }
   ],
   "source": [
    "\n",
    "# Now as we are accessing the user profile...so first we need to get the permission from the user...so once the user give permission\n",
    "# to share his information ....then only we can access his information...\n",
    "\n",
    "# Like you must have seen ....when we install a new app....after opening it ask us some permission....same thing is here...if user\n",
    "# grants the permission to share his data...then only we can use this code...similarly for other actions that requires user permission\n",
    "# ...can only be done once the user provides permission...you can read more of this functions for which we need user persmission can \n",
    "# be seen on the Official Spotify API Documentation....\n",
    "\n",
    "playlist_id = '7LXHR2MPB7ox0xLalBX9G2'\n",
    "image_path = 'playlist.jpg'\n",
    "\n",
    "\n",
    "# function to add the custom cover image to the playlist\n",
    "def add_custom_cover_to_playlist(access_token, playlist_id, image_path):\n",
    "    \n",
    "    headers = {\n",
    "        \"Authorization\": \"Bearer \" + token,\n",
    "        'Content-Type': 'image/jpeg'\n",
    "    }\n",
    "    \n",
    "    url = f\"https://api.spotify.com/v1/playlists/{playlist_id}/images\"\n",
    "    \n",
    "    \n",
    "    # encoding the image to base64\n",
    "    with open(image_path, 'rb') as image_file:\n",
    "        image_data = image_file.read()\n",
    "        base64_image = base64.b64encode(image_data).decode('utf-8')\n",
    "        \n",
    "    \n",
    "    # payload will store our encoded image\n",
    "    payload = {\n",
    "        'image' : base64_image\n",
    "    }\n",
    "    \n",
    "    result = put(url=url, headers=headers, data=payload)\n",
    "    \n",
    "    \n",
    "    if result.status_code == 202:\n",
    "        print(\"Custom cover image added successfully!!\")\n",
    "    else:\n",
    "        print(\"⚠️Failed to add custom cover image⚠️\")\n",
    "    \n",
    "\n",
    "    return result.status_code\n",
    "    \n",
    "\n",
    "output = add_custom_cover_to_playlist(token,playlist_id,image_path)\n",
    "output\n",
    "    "
   ]
  },
  {
   "cell_type": "code",
   "execution_count": null,
   "metadata": {},
   "outputs": [],
   "source": []
  },
  {
   "cell_type": "markdown",
   "metadata": {},
   "source": [
    "#### Get `Playlist Cover image`"
   ]
  },
  {
   "cell_type": "code",
   "execution_count": 140,
   "metadata": {},
   "outputs": [
    {
     "data": {
      "text/plain": [
       "[{'height': 640,\n",
       "  'url': 'https://mosaic.scdn.co/640/ab67616d0000b2734121faee8df82c526cbab2beab67616d0000b273a69f71a8794e2d867a52f98fab67616d0000b273e419ccba0baa8bd3f3d7abf2ab67616d0000b273e8b066f70c206551210d902b',\n",
       "  'width': 640},\n",
       " {'height': 300,\n",
       "  'url': 'https://mosaic.scdn.co/300/ab67616d0000b2734121faee8df82c526cbab2beab67616d0000b273a69f71a8794e2d867a52f98fab67616d0000b273e419ccba0baa8bd3f3d7abf2ab67616d0000b273e8b066f70c206551210d902b',\n",
       "  'width': 300},\n",
       " {'height': 60,\n",
       "  'url': 'https://mosaic.scdn.co/60/ab67616d0000b2734121faee8df82c526cbab2beab67616d0000b273a69f71a8794e2d867a52f98fab67616d0000b273e419ccba0baa8bd3f3d7abf2ab67616d0000b273e8b066f70c206551210d902b',\n",
       "  'width': 60}]"
      ]
     },
     "execution_count": 140,
     "metadata": {},
     "output_type": "execute_result"
    }
   ],
   "source": [
    "\n",
    "playlist_id = \"1meWCvg9F5hk0Aw6CSmfpP\"\n",
    "\n",
    "def get_playlist_cover_image(access_token, playlist_id):\n",
    "    headers = get_auth_header(token)\n",
    "    \n",
    "    url = f\"https://api.spotify.com/v1/playlists/{playlist_id}/images\"\n",
    "    \n",
    "    result = get(url, headers=headers)\n",
    "    \n",
    "    json_result = json.loads(result.content)\n",
    "    \n",
    "    return json_result\n",
    "\n",
    "\n",
    "output = get_playlist_cover_image(token, playlist_id)\n",
    "output"
   ]
  },
  {
   "cell_type": "code",
   "execution_count": null,
   "metadata": {},
   "outputs": [],
   "source": []
  },
  {
   "cell_type": "markdown",
   "metadata": {},
   "source": [
    "### Getting the playlist from the `playlist_id`"
   ]
  },
  {
   "cell_type": "code",
   "execution_count": 141,
   "metadata": {},
   "outputs": [
    {
     "name": "stdout",
     "output_type": "stream",
     "text": [
      "Playlist Name: Surprise Songs\n",
      "Number of Tracks: 25\n"
     ]
    }
   ],
   "source": [
    "# Function to get the playlist through playlist id....\n",
    "\n",
    "def get_playlist_through_id(access_token,playlist_id):\n",
    "    headers = get_auth_header(token)\n",
    "    url = \"https://api.spotify.com/v1/playlists/\"\n",
    "    \n",
    "    query_url = url + playlist_id\n",
    "    \n",
    "    result = get(query_url,headers=headers)\n",
    "    \n",
    "    json_result = json.loads(result.content)\n",
    "    \n",
    "    return json_result\n",
    "    \n",
    "\n",
    "\n",
    "result = get_playlist_through_id(token,playlist_id)\n",
    "\n",
    "playlist_name = result['name']\n",
    "number_of_tracks = result['tracks']['total']\n",
    "\n",
    "print(\"Playlist Name:\", playlist_name)\n",
    "print(\"Number of Tracks:\", number_of_tracks)\n"
   ]
  },
  {
   "cell_type": "code",
   "execution_count": null,
   "metadata": {},
   "outputs": [],
   "source": []
  },
  {
   "cell_type": "markdown",
   "metadata": {},
   "source": [
    "##### `Bonus Section` - \n",
    "##### Here i have created different playlist of songs  on the basis of different emotions like `\"joy\"`, `\"sadness\"`, `\"anger\"`, `\"fear\"`, `\"love\"` & `\"surprise\"`\n",
    "\n",
    "##### Now on the basis of emotions we will fetch different songs from the playlist...each time we run it we will get 7 random songs from the playlist(for a particular emotion)...."
   ]
  },
  {
   "cell_type": "code",
   "execution_count": 142,
   "metadata": {},
   "outputs": [
    {
     "name": "stdout",
     "output_type": "stream",
     "text": [
      "7LXHR2MPB7ox0xLalBX9G2\n"
     ]
    }
   ],
   "source": [
    "\n",
    "# Function to acessing the playlist id based on the emotion\n",
    "\n",
    "\n",
    "def select_playlist_based_on_emotion(emotion):\n",
    "    playlist_id = \"\"\n",
    "    \n",
    "    if(emotion == \"joy\"):\n",
    "        playlist_id = \"1CsKkNjlnIhkbz21FtMEZF\"\n",
    "    elif(emotion == \"sadness\"):\n",
    "        playlist_id = \"6nxPNnmSE0d5WlplUsa5L3\"\n",
    "    elif(emotion == \"anger\"):\n",
    "        playlist_id = \"0a4Hr64HWlxekayZ8wnWqx\"\n",
    "    elif (emotion == \"fear\"):\n",
    "        playlist_id = \"7LXHR2MPB7ox0xLalBX9G2\"\n",
    "    elif(emotion == \"love\"):\n",
    "        playlist_id = \"0hNT4Mw8aLUhD74LOPAmuh\"\n",
    "    elif(emotion == \"surprise\"):\n",
    "        playlist_id = \"1meWCvg9F5hk0Aw6CSmfpP\"\n",
    "    else:\n",
    "        playlist_id = \"\"\n",
    "\n",
    "    \n",
    "    return playlist_id\n",
    "\n",
    "\n",
    "\n",
    "playlist_id = select_playlist_based_on_emotion(\"fear\")\n",
    "print(playlist_id)"
   ]
  },
  {
   "cell_type": "code",
   "execution_count": 143,
   "metadata": {},
   "outputs": [
    {
     "data": {
      "text/plain": [
       "'7LXHR2MPB7ox0xLalBX9G2'"
      ]
     },
     "execution_count": 143,
     "metadata": {},
     "output_type": "execute_result"
    }
   ],
   "source": [
    "playlist_id"
   ]
  },
  {
   "cell_type": "code",
   "execution_count": 144,
   "metadata": {},
   "outputs": [
    {
     "name": "stdout",
     "output_type": "stream",
     "text": [
      "Church Bell Toll - Horror Sound Effect by Ultimate Horror Sounds\n",
      "Ghostly Voices - Horror Sound Effect by Ultimate Horror Sounds\n",
      "Fangs Spectral by Halloween Sound Effects\n",
      "Loud Scream by Halloween Sound Effects\n",
      "Creepy Cyclops by Horror Music Collection\n",
      "Voice of Fear by Halloween Sound Effects\n",
      "Haunted Waltz by Halloween Music\n"
     ]
    }
   ],
   "source": [
    "\n",
    "# getting playlist items (songs)\n",
    "\n",
    "def get_songs_from_playlist(access_token,playlist_id):\n",
    "    \n",
    "    headers = get_auth_header(token)\n",
    "    \n",
    "    url = f\"https://api.spotify.com/v1/playlists/{playlist_id}/tracks\"\n",
    "    \n",
    "    result = get(url,headers=headers)\n",
    "    \n",
    "    json_result = json.loads(result.content)\n",
    "    \n",
    "    tracks = json_result['items']\n",
    "    \n",
    "    return tracks\n",
    "    \n",
    "\n",
    "\n",
    "songs = []\n",
    "artists = []\n",
    "\n",
    "    \n",
    "tracks = get_songs_from_playlist(token,playlist_id)\n",
    "# print(tracks)\n",
    "\n",
    "if tracks:    \n",
    "    for track in tracks:\n",
    "        track_name = track[\"track\"][\"name\"]\n",
    "        songs.append(track_name)\n",
    "        artist_name = track[\"track\"][\"artists\"][0][\"name\"]\n",
    "        artists.append(artist_name)\n",
    "        \n",
    "        \n",
    "        #print(f\"{track_name} by {artist_name}\")\n",
    "else:\n",
    "    print(\"No tracks found in the playlist.\")\n",
    "    \n",
    "\n",
    "\n",
    "\n",
    "# print(songs)\n",
    "# print(artists)\n",
    "\n",
    "\n",
    "\n",
    "len_songs = len(songs)\n",
    "len_artist = len(artists)\n",
    "\n",
    "numbers = 7   # number of random numbers to generate\n",
    "\n",
    "\n",
    "lower_bound = 0\n",
    "upper_bound = len_songs\n",
    "\n",
    "# generating a list of random numbers within the range [0,len_songs)\n",
    "random_numbers = random.sample(range(lower_bound,upper_bound),numbers)\n",
    "\n",
    "# print(random_numbers)\n",
    "\n",
    "for idx in random_numbers:\n",
    "    print(f\"{songs[idx]} by {artists[idx]}\")\n",
    "\n"
   ]
  },
  {
   "cell_type": "code",
   "execution_count": null,
   "metadata": {},
   "outputs": [],
   "source": []
  },
  {
   "cell_type": "markdown",
   "metadata": {},
   "source": [
    "### Getting Songs Based On Genres"
   ]
  },
  {
   "cell_type": "code",
   "execution_count": 145,
   "metadata": {},
   "outputs": [
    {
     "name": "stdout",
     "output_type": "stream",
     "text": [
      "Going Out\n",
      "Black Sap Scriptures\n",
      "Welcome to the Black Parade\n",
      "I Dance to Trance in Garbage Bag Pants\n",
      "Ignorance\n",
      "Dear Maria, Count Me In\n",
      "Cigarettes & Saints\n",
      "King of the King of Beers\n",
      "Mondays\n",
      "Lust For Life\n"
     ]
    }
   ],
   "source": [
    "# Getting Songs from single Genre\n",
    "\n",
    "\n",
    "def get_songs_by_genre(access_token, genre):\n",
    "    \n",
    "    headers = get_auth_header(token)\n",
    "    url = \"https://api.spotify.com/v1/recommendations\"\n",
    "    \n",
    "    params = {\n",
    "        \"seed_genres\":genre,\n",
    "        \"limit\":10\n",
    "    }\n",
    "    \n",
    "    response = get(url,headers=headers, params=params)\n",
    "    \n",
    "    result = json.loads(response.content)\n",
    "    \n",
    "    return result\n",
    "\n",
    "\n",
    "\n",
    "result = get_songs_by_genre(token,\"punk\")\n",
    "song_names = [track['name'] for track in result['tracks']]\n",
    "\n",
    "for songs in song_names:\n",
    "    print(songs)"
   ]
  },
  {
   "cell_type": "code",
   "execution_count": null,
   "metadata": {},
   "outputs": [],
   "source": []
  },
  {
   "cell_type": "code",
   "execution_count": 146,
   "metadata": {},
   "outputs": [
    {
     "name": "stdout",
     "output_type": "stream",
     "text": [
      "Miserable At Best\n",
      "Down In A Hole - Live at the Majestic Theatre, Brooklyn, NY - April 1996\n",
      "Why Am I Crying\n",
      "Samson\n",
      "Sex On Fire\n",
      "pick up the phone\n",
      "Paris\n",
      "Tears (feat. Louisa Johnson)\n",
      "Stay Together\n",
      "Why You Always Hatin?\n",
      "U + Ur Hand\n",
      "Run to You\n",
      "The Climb\n",
      "All of Me - Tiësto's Birthday Treatment Remix - Radio Edit\n",
      "Let's Get Married\n"
     ]
    }
   ],
   "source": [
    "\n",
    "# Getting Songs from Multiple Genre\n",
    "\n",
    "def get_songs_by_genre_list(access_token, genres):\n",
    "    headers = get_auth_header(token)\n",
    "    url = \"https://api.spotify.com/v1/recommendations\"\n",
    "    limit = 5  # Number of songs per genre\n",
    "    all_results = []\n",
    "    \n",
    "    for genre in genres:\n",
    "        params = {\n",
    "            \"seed_genres\": genre,\n",
    "            \"limit\": limit\n",
    "        }\n",
    "        \n",
    "        response = get(url, headers=headers, params=params)\n",
    "        result = json.loads(response.content)\n",
    "        \n",
    "        if 'tracks' in result:\n",
    "            song_names = [track['name'] for track in result['tracks']]\n",
    "            all_results.extend(song_names)\n",
    "        else:\n",
    "            continue\n",
    "        \n",
    "    return all_results\n",
    "\n",
    "\n",
    "# You can take input from the user in the frontend...tell him to pick his any 3 favouirte genres...then display random songs from the\n",
    "# selected genre...add those genre to this below genres list...and make API call...\n",
    "genres = [\"acoustic\", \"pop\", \"romance\"]\n",
    "result = get_songs_by_genre_list(token, genres)\n",
    "\n",
    "\n",
    "for song in result:\n",
    "    print(song)"
   ]
  },
  {
   "cell_type": "code",
   "execution_count": null,
   "metadata": {},
   "outputs": [],
   "source": []
  },
  {
   "cell_type": "code",
   "execution_count": null,
   "metadata": {},
   "outputs": [],
   "source": []
  }
 ],
 "metadata": {
  "kernelspec": {
   "display_name": "pythonCommonENV",
   "language": "python",
   "name": "python3"
  },
  "language_info": {
   "codemirror_mode": {
    "name": "ipython",
    "version": 3
   },
   "file_extension": ".py",
   "mimetype": "text/x-python",
   "name": "python",
   "nbconvert_exporter": "python",
   "pygments_lexer": "ipython3",
   "version": "3.9.17"
  },
  "orig_nbformat": 4
 },
 "nbformat": 4,
 "nbformat_minor": 2
}
